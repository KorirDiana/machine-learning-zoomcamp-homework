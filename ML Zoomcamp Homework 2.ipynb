{
 "cells": [
  {
   "cell_type": "code",
   "execution_count": 1,
   "id": "9cacfc64-1422-48b8-abea-669640133c25",
   "metadata": {},
   "outputs": [],
   "source": [
    "import pandas as pd"
   ]
  },
  {
   "cell_type": "code",
   "execution_count": 2,
   "id": "22eae681-b49a-4cc8-9a9c-2acc56db59e2",
   "metadata": {},
   "outputs": [],
   "source": [
    "df = pd.read_csv(\"car_fuel_efficiency.csv\")"
   ]
  },
  {
   "cell_type": "markdown",
   "id": "aefe881d-873b-47cf-b174-1aa141b62a7a",
   "metadata": {},
   "source": [
    "### Question 1\n",
    "\n",
    "**There's one column with missing values. What is it?**"
   ]
  },
  {
   "cell_type": "code",
   "execution_count": 4,
   "id": "9edbe41d-c8a7-4f4e-b5ed-803229293efe",
   "metadata": {},
   "outputs": [
    {
     "data": {
      "text/plain": [
       "engine_displacement      0\n",
       "num_cylinders          482\n",
       "horsepower             708\n",
       "vehicle_weight           0\n",
       "acceleration           930\n",
       "model_year               0\n",
       "origin                   0\n",
       "fuel_type                0\n",
       "drivetrain               0\n",
       "num_doors              502\n",
       "fuel_efficiency_mpg      0\n",
       "dtype: int64"
      ]
     },
     "execution_count": 4,
     "metadata": {},
     "output_type": "execute_result"
    }
   ],
   "source": [
    "import pandas as pd\n",
    "\n",
    "df = pd.read_csv(\"car_fuel_efficiency.csv\")\n",
    "\n",
    "# Select relevant columns\n",
    "cols = ['engine_displacement', 'horsepower', 'vehicle_weight', 'model_year', 'fuel_efficiency_mpg']\n",
    "df_filtered = df[cols]\n",
    "\n",
    "# Check for missing values\n",
    "df.isnull().sum()"
   ]
  },
  {
   "cell_type": "markdown",
   "id": "d80d76ac-381e-4d7e-af61-329953a2f280",
   "metadata": {},
   "source": [
    "Column with missing values: horsepower"
   ]
  },
  {
   "cell_type": "markdown",
   "id": "39a3ad26-b7c3-485c-98fc-b750cf464214",
   "metadata": {},
   "source": [
    "### Question 2\n",
    "**What's the median (50% percentile) for variable 'horsepower'?**"
   ]
  },
  {
   "cell_type": "code",
   "execution_count": 7,
   "id": "6e2ab59b-5a5e-4738-81c1-ae93d026adb0",
   "metadata": {},
   "outputs": [
    {
     "data": {
      "text/plain": [
       "149.0"
      ]
     },
     "execution_count": 7,
     "metadata": {},
     "output_type": "execute_result"
    }
   ],
   "source": [
    "df['horsepower'].median()"
   ]
  },
  {
   "cell_type": "markdown",
   "id": "b16387fd-8052-4d94-8e94-17c7d6a87d93",
   "metadata": {},
   "source": [
    "Median: 149"
   ]
  },
  {
   "cell_type": "markdown",
   "id": "b29fad9f-e13a-4bab-878e-33000f52f8af",
   "metadata": {},
   "source": [
    "**Prepare and split the dataset\n",
    "Shuffle the dataset (the filtered one you created above), use seed 42.\n",
    "Split your data in train/val/test sets, with 60%/20%/20% distribution.\n",
    "Use the same code as in the lectures**"
   ]
  },
  {
   "cell_type": "code",
   "execution_count": 10,
   "id": "963777e4-4877-4a2a-8a5d-9fb2743e0d60",
   "metadata": {},
   "outputs": [],
   "source": [
    "import numpy as np\n",
    "from sklearn.model_selection import train_test_split"
   ]
  },
  {
   "cell_type": "code",
   "execution_count": 11,
   "id": "b2cfd935-0c6b-4d26-b618-cd8efac4d631",
   "metadata": {},
   "outputs": [
    {
     "name": "stdout",
     "output_type": "stream",
     "text": [
      "Train set shape: (5822, 5)\n",
      "Validation set shape: (1941, 5)\n",
      "Test set shape: (1941, 5)\n"
     ]
    }
   ],
   "source": [
    "df_shuffled = df_filtered.sample(frac=1, random_state=42)\n",
    "\n",
    "df_train, df_temp = train_test_split(df_shuffled, test_size=0.4, random_state=42)\n",
    "df_val, df_test = train_test_split(df_temp, test_size=0.5, random_state=42)\n",
    "\n",
    "print(f\"Train set shape: {df_train.shape}\")\n",
    "print(f\"Validation set shape: {df_val.shape}\")\n",
    "print(f\"Test set shape: {df_test.shape}\")"
   ]
  },
  {
   "cell_type": "markdown",
   "id": "67ac633e-218e-4f84-a6b2-0b95bb3537dd",
   "metadata": {},
   "source": [
    "### Question Three\n",
    "\n",
    "We need to deal with missing values for the column from Q1.\n",
    "- We have two options: fill it with 0 or with the mean of this variable.\n",
    "- Try both options. For each, train a linear regression model without regularization using the code from the lessons.\n",
    "- For computing the mean, use the training only!\n",
    "- Use the validation dataset to evaluate the models and compare the RMSE of each option.\n",
    "- Round the RMSE scores to 2 decimal digits using round(score, 2)\n",
    "- Which option gives better RMSE?"
   ]
  },
  {
   "cell_type": "code",
   "execution_count": 13,
   "id": "1d224928-01db-4808-aecb-967dd4a145aa",
   "metadata": {},
   "outputs": [],
   "source": [
    "from sklearn.linear_model import LinearRegression\n",
    "from sklearn.metrics import mean_squared_error\n",
    "import numpy as np\n",
    "\n",
    "features = ['engine_displacement', 'horsepower', 'vehicle_weight', 'model_year']\n",
    "target = 'fuel_efficiency_mpg'\n",
    "\n",
    "def prepare_X(df):\n",
    "    return df[features].copy()\n"
   ]
  },
  {
   "cell_type": "markdown",
   "id": "30ad6f48-143a-430b-87f3-09cad4c7d54b",
   "metadata": {},
   "source": [
    "**Option 1: imputing with 0**"
   ]
  },
  {
   "cell_type": "code",
   "execution_count": 15,
   "id": "2b0b7aef-129f-466f-abbe-b3d4f576e5dd",
   "metadata": {},
   "outputs": [
    {
     "name": "stdout",
     "output_type": "stream",
     "text": [
      "RMSE_0: 0.51\n"
     ]
    },
    {
     "name": "stderr",
     "output_type": "stream",
     "text": [
      "C:\\Users\\Tooter\\anaconda3\\Lib\\site-packages\\sklearn\\metrics\\_regression.py:483: FutureWarning: 'squared' is deprecated in version 1.4 and will be removed in 1.6. To calculate the root mean squared error, use the function'root_mean_squared_error'.\n",
      "  warnings.warn(\n"
     ]
    }
   ],
   "source": [
    "df_train_0 = df_train.copy()\n",
    "df_val_0 = df_val.copy()\n",
    "\n",
    "df_train_0['horsepower'] = df_train_0['horsepower'].fillna(0)\n",
    "df_val_0['horsepower'] = df_val_0['horsepower'].fillna(0)\n",
    "\n",
    "X_train_0 = prepare_X(df_train_0)\n",
    "X_val_0 = prepare_X(df_val_0)\n",
    "y_train = df_train_0[target].values\n",
    "y_val = df_val_0[target].values\n",
    "\n",
    "model_0 = LinearRegression()\n",
    "model_0.fit(X_train_0, y_train)\n",
    "y_pred_0 = model_0.predict(X_val_0)\n",
    "\n",
    "rmse_0 = mean_squared_error(y_val, y_pred_0, squared=False)\n",
    "print(f\"RMSE_0: {round(rmse_0, 2)}\")"
   ]
  },
  {
   "cell_type": "markdown",
   "id": "59c0fc58-83ed-45f3-b462-a13b54628416",
   "metadata": {},
   "source": [
    "**Option 2: Fill missing with training mean**"
   ]
  },
  {
   "cell_type": "code",
   "execution_count": 17,
   "id": "e1ed2370-11ae-43c2-bb06-167c33f4a3d3",
   "metadata": {},
   "outputs": [
    {
     "name": "stdout",
     "output_type": "stream",
     "text": [
      "RMSE_Mean: 0.46\n"
     ]
    },
    {
     "name": "stderr",
     "output_type": "stream",
     "text": [
      "C:\\Users\\Tooter\\anaconda3\\Lib\\site-packages\\sklearn\\metrics\\_regression.py:483: FutureWarning: 'squared' is deprecated in version 1.4 and will be removed in 1.6. To calculate the root mean squared error, use the function'root_mean_squared_error'.\n",
      "  warnings.warn(\n"
     ]
    }
   ],
   "source": [
    "df_train_mean = df_train.copy()\n",
    "df_val_mean = df_val.copy()\n",
    "\n",
    "hp_mean = df_train_mean['horsepower'].mean()\n",
    "\n",
    "df_train_mean['horsepower'] = df_train_mean['horsepower'].fillna(hp_mean)\n",
    "df_val_mean['horsepower'] = df_val_mean['horsepower'].fillna(hp_mean)\n",
    "\n",
    "X_train_mean = prepare_X(df_train_mean)\n",
    "X_val_mean = prepare_X(df_val_mean)\n",
    "y_train = df_train_mean[target].values\n",
    "y_val = df_val_mean[target].values\n",
    "\n",
    "model_mean = LinearRegression()\n",
    "model_mean.fit(X_train_mean, y_train)\n",
    "y_pred_mean = model_mean.predict(X_val_mean)\n",
    "\n",
    "rmse_mean = mean_squared_error(y_val, y_pred_mean, squared=False)\n",
    "round(rmse_mean, 2)\n",
    "print(f\"RMSE_Mean: {round(rmse_mean, 2)}\")"
   ]
  },
  {
   "cell_type": "markdown",
   "id": "87578935-6f7c-4051-82c9-e99f2299b448",
   "metadata": {},
   "source": [
    "**Comparing the two RMSEs**\n",
    "\n",
    "**With mean**\n",
    "\n",
    "Filling the missing horsepower values with the mean (RMSE = 0.46) gives a better RMSE than filling them with 0 (RMSE = 0.51).\n",
    "Hence, using the mean imputation method results in better model performance (lower validation error)."
   ]
  },
  {
   "cell_type": "markdown",
   "id": "3707fe1a-caf8-4333-ac58-c050763ea561",
   "metadata": {},
   "source": [
    "### Question 4 \n",
    "**Now let's train a regularized linear regression.**"
   ]
  },
  {
   "cell_type": "code",
   "execution_count": 20,
   "id": "1397ad22-38e3-4003-8b20-091b94ed7a5d",
   "metadata": {},
   "outputs": [],
   "source": [
    "from sklearn.linear_model import Ridge\n",
    "from sklearn.metrics import mean_squared_error\n"
   ]
  },
  {
   "cell_type": "markdown",
   "id": "490efc75-090e-48ef-a0da-8a14d675aba8",
   "metadata": {},
   "source": [
    "Filling the NAs with 0. "
   ]
  },
  {
   "cell_type": "code",
   "execution_count": 22,
   "id": "995999a3-1af2-43f3-b0de-e4cddbe6a991",
   "metadata": {},
   "outputs": [],
   "source": [
    "df_train_r = df_train.copy()\n",
    "df_val_r = df_val.copy()\n",
    "\n",
    "df_train_r['horsepower'] = df_train_r['horsepower'].fillna(0)\n",
    "df_val_r['horsepower'] = df_val_r['horsepower'].fillna(0)\n",
    "\n",
    "X_train_r = prepare_X(df_train_r)\n",
    "X_val_r = prepare_X(df_val_r)\n",
    "y_train = df_train_r[target].values\n",
    "y_val = df_val_r[target].values\n"
   ]
  },
  {
   "cell_type": "markdown",
   "id": "3b578782-c472-4680-93e7-51a3ddb7bf0b",
   "metadata": {},
   "source": [
    "Round the RMSE scores to 2 decimal digits."
   ]
  },
  {
   "cell_type": "code",
   "execution_count": 24,
   "id": "90b23112-ac9c-483f-9a95-c3be4f96792e",
   "metadata": {},
   "outputs": [
    {
     "name": "stdout",
     "output_type": "stream",
     "text": [
      "0 0.51\n",
      "0.01 0.51\n",
      "0.1 0.51\n",
      "1 0.51\n",
      "5 0.51\n",
      "10 0.51\n",
      "100 0.51\n"
     ]
    },
    {
     "name": "stderr",
     "output_type": "stream",
     "text": [
      "C:\\Users\\Tooter\\anaconda3\\Lib\\site-packages\\sklearn\\metrics\\_regression.py:483: FutureWarning: 'squared' is deprecated in version 1.4 and will be removed in 1.6. To calculate the root mean squared error, use the function'root_mean_squared_error'.\n",
      "  warnings.warn(\n",
      "C:\\Users\\Tooter\\anaconda3\\Lib\\site-packages\\sklearn\\metrics\\_regression.py:483: FutureWarning: 'squared' is deprecated in version 1.4 and will be removed in 1.6. To calculate the root mean squared error, use the function'root_mean_squared_error'.\n",
      "  warnings.warn(\n",
      "C:\\Users\\Tooter\\anaconda3\\Lib\\site-packages\\sklearn\\metrics\\_regression.py:483: FutureWarning: 'squared' is deprecated in version 1.4 and will be removed in 1.6. To calculate the root mean squared error, use the function'root_mean_squared_error'.\n",
      "  warnings.warn(\n",
      "C:\\Users\\Tooter\\anaconda3\\Lib\\site-packages\\sklearn\\metrics\\_regression.py:483: FutureWarning: 'squared' is deprecated in version 1.4 and will be removed in 1.6. To calculate the root mean squared error, use the function'root_mean_squared_error'.\n",
      "  warnings.warn(\n",
      "C:\\Users\\Tooter\\anaconda3\\Lib\\site-packages\\sklearn\\metrics\\_regression.py:483: FutureWarning: 'squared' is deprecated in version 1.4 and will be removed in 1.6. To calculate the root mean squared error, use the function'root_mean_squared_error'.\n",
      "  warnings.warn(\n",
      "C:\\Users\\Tooter\\anaconda3\\Lib\\site-packages\\sklearn\\metrics\\_regression.py:483: FutureWarning: 'squared' is deprecated in version 1.4 and will be removed in 1.6. To calculate the root mean squared error, use the function'root_mean_squared_error'.\n",
      "  warnings.warn(\n",
      "C:\\Users\\Tooter\\anaconda3\\Lib\\site-packages\\sklearn\\metrics\\_regression.py:483: FutureWarning: 'squared' is deprecated in version 1.4 and will be removed in 1.6. To calculate the root mean squared error, use the function'root_mean_squared_error'.\n",
      "  warnings.warn(\n"
     ]
    }
   ],
   "source": [
    "for r in [0, 0.01, 0.1, 1, 5, 10, 100]:\n",
    "    model = Ridge(alpha=r)\n",
    "    model.fit(X_train_r, y_train)\n",
    "    y_pred = model.predict(X_val_r)\n",
    "    rmse = mean_squared_error(y_val, y_pred, squared=False)\n",
    "    print(r, round(rmse, 2))"
   ]
  },
  {
   "cell_type": "markdown",
   "id": "cf023d68-8056-4157-adcb-9137372161ac",
   "metadata": {},
   "source": [
    "**Which r gives the best RMSE?**\n",
    "\n",
    "RMSE (0.51) is produced for all values. The smallest is r = 0"
   ]
  },
  {
   "cell_type": "markdown",
   "id": "dace83b4-c807-4652-a0bf-b1c7d65ccf0a",
   "metadata": {},
   "source": [
    "### Question 5\n",
    "We used seed 42 for splitting the data. Let's find out how selecting the seed influences our score.\n",
    "\n",
    "Try different seed values: [0, 1, 2, 3, 4, 5, 6, 7, 8, 9].\n",
    "\n",
    "For each seed, do the train/validation/test split with 60%/20%/20% distribution.\n",
    "\n",
    "Fill the missing values with 0 and train a model without regularization.\n",
    "\n",
    "For each seed, evaluate the model on the validation dataset and collect the RMSE scores.\n",
    "\n",
    "What's the standard deviation of all the scores? To compute the standard deviation, use np.std.\n",
    "\n",
    "Round the result to 3 decimal digits (round(std, 3))\n",
    "\n",
    "What's the value of std?"
   ]
  },
  {
   "cell_type": "code",
   "execution_count": 27,
   "id": "d3592ebd-a3e0-46b6-a81c-0e7ce38d36a0",
   "metadata": {},
   "outputs": [
    {
     "name": "stderr",
     "output_type": "stream",
     "text": [
      "C:\\Users\\Tooter\\anaconda3\\Lib\\site-packages\\sklearn\\metrics\\_regression.py:483: FutureWarning: 'squared' is deprecated in version 1.4 and will be removed in 1.6. To calculate the root mean squared error, use the function'root_mean_squared_error'.\n",
      "  warnings.warn(\n",
      "C:\\Users\\Tooter\\anaconda3\\Lib\\site-packages\\sklearn\\metrics\\_regression.py:483: FutureWarning: 'squared' is deprecated in version 1.4 and will be removed in 1.6. To calculate the root mean squared error, use the function'root_mean_squared_error'.\n",
      "  warnings.warn(\n",
      "C:\\Users\\Tooter\\anaconda3\\Lib\\site-packages\\sklearn\\metrics\\_regression.py:483: FutureWarning: 'squared' is deprecated in version 1.4 and will be removed in 1.6. To calculate the root mean squared error, use the function'root_mean_squared_error'.\n",
      "  warnings.warn(\n"
     ]
    },
    {
     "name": "stdout",
     "output_type": "stream",
     "text": [
      "RMSE scores: [0.518029012129703, 0.5090406519449436, 0.5141627479366627, 0.5152929065813445, 0.5184898612166596, 0.5236053324442334, 0.5150251935468096, 0.5249385057075809, 0.50760288990225, 0.5292310655399466]\n",
      "Standard deviation: 0.007\n"
     ]
    },
    {
     "name": "stderr",
     "output_type": "stream",
     "text": [
      "C:\\Users\\Tooter\\anaconda3\\Lib\\site-packages\\sklearn\\metrics\\_regression.py:483: FutureWarning: 'squared' is deprecated in version 1.4 and will be removed in 1.6. To calculate the root mean squared error, use the function'root_mean_squared_error'.\n",
      "  warnings.warn(\n",
      "C:\\Users\\Tooter\\anaconda3\\Lib\\site-packages\\sklearn\\metrics\\_regression.py:483: FutureWarning: 'squared' is deprecated in version 1.4 and will be removed in 1.6. To calculate the root mean squared error, use the function'root_mean_squared_error'.\n",
      "  warnings.warn(\n",
      "C:\\Users\\Tooter\\anaconda3\\Lib\\site-packages\\sklearn\\metrics\\_regression.py:483: FutureWarning: 'squared' is deprecated in version 1.4 and will be removed in 1.6. To calculate the root mean squared error, use the function'root_mean_squared_error'.\n",
      "  warnings.warn(\n",
      "C:\\Users\\Tooter\\anaconda3\\Lib\\site-packages\\sklearn\\metrics\\_regression.py:483: FutureWarning: 'squared' is deprecated in version 1.4 and will be removed in 1.6. To calculate the root mean squared error, use the function'root_mean_squared_error'.\n",
      "  warnings.warn(\n",
      "C:\\Users\\Tooter\\anaconda3\\Lib\\site-packages\\sklearn\\metrics\\_regression.py:483: FutureWarning: 'squared' is deprecated in version 1.4 and will be removed in 1.6. To calculate the root mean squared error, use the function'root_mean_squared_error'.\n",
      "  warnings.warn(\n",
      "C:\\Users\\Tooter\\anaconda3\\Lib\\site-packages\\sklearn\\metrics\\_regression.py:483: FutureWarning: 'squared' is deprecated in version 1.4 and will be removed in 1.6. To calculate the root mean squared error, use the function'root_mean_squared_error'.\n",
      "  warnings.warn(\n",
      "C:\\Users\\Tooter\\anaconda3\\Lib\\site-packages\\sklearn\\metrics\\_regression.py:483: FutureWarning: 'squared' is deprecated in version 1.4 and will be removed in 1.6. To calculate the root mean squared error, use the function'root_mean_squared_error'.\n",
      "  warnings.warn(\n"
     ]
    }
   ],
   "source": [
    "from sklearn.linear_model import LinearRegression\n",
    "from sklearn.metrics import mean_squared_error\n",
    "import numpy as np\n",
    "from sklearn.model_selection import train_test_split\n",
    "\n",
    "seeds = [0, 1, 2, 3, 4, 5, 6, 7, 8, 9]\n",
    "rmse_scores = []\n",
    "\n",
    "for seed in seeds:\n",
    "    # Split data\n",
    "    df_shuffled = df.sample(frac=1, random_state=seed)\n",
    "    df_train, df_temp = train_test_split(df_shuffled, test_size=0.4, random_state=seed)\n",
    "    df_val, df_test = train_test_split(df_temp, test_size=0.5, random_state=seed)\n",
    "\n",
    "    # Fill missing values with 0\n",
    "    df_train['horsepower'] = df_train['horsepower'].fillna(0)\n",
    "    df_val['horsepower'] = df_val['horsepower'].fillna(0)\n",
    "\n",
    "    # Prepare features\n",
    "    X_train = df_train[features]\n",
    "    X_val = df_val[features]\n",
    "    y_train = df_train[target].values\n",
    "    y_val = df_val[target].values\n",
    "\n",
    "    # Train model\n",
    "    model = LinearRegression()\n",
    "    model.fit(X_train, y_train)\n",
    "\n",
    "    # Predict and evaluate\n",
    "    y_pred = model.predict(X_val)\n",
    "    rmse = mean_squared_error(y_val, y_pred, squared=False)\n",
    "    rmse_scores.append(rmse)\n",
    "\n",
    "# Compute standard deviation\n",
    "std = np.std(rmse_scores)\n",
    "print(\"RMSE scores:\", rmse_scores)\n",
    "print(\"Standard deviation:\", round(std, 3))\n"
   ]
  },
  {
   "cell_type": "markdown",
   "id": "c5ffa9a7-d38d-440b-bb91-8ffc18f4430f",
   "metadata": {},
   "source": [
    "**Closest match is 0.006**"
   ]
  },
  {
   "cell_type": "markdown",
   "id": "3b3706d1-2e2e-46a0-9474-13007ba8ee95",
   "metadata": {},
   "source": [
    "### Question 6\n",
    "\n",
    "**Split the dataset like previously, use seed 9.\n",
    "Combine train and validation datasets.\n",
    "Fill the missing values with 0 and train a model with r=0.001.\n",
    "What's the RMSE on the test dataset?**\n"
   ]
  },
  {
   "cell_type": "markdown",
   "id": "17670354-ff5a-414f-9c3e-7f2357022cd0",
   "metadata": {},
   "source": [
    "Step 1: Split data 60/20/20 split approach (seed = 9)"
   ]
  },
  {
   "cell_type": "code",
   "execution_count": 31,
   "id": "3abe57ce-468b-46e1-920b-388a08bfd731",
   "metadata": {},
   "outputs": [],
   "source": [
    "from sklearn.model_selection import train_test_split\n",
    "from sklearn.linear_model import Ridge\n",
    "from sklearn.metrics import mean_squared_error\n",
    "\n",
    "# Shuffle and split\n",
    "df_shuffled = df.sample(frac=1, random_state=9)\n",
    "df_train, df_temp = train_test_split(df_shuffled, test_size=0.4, random_state=9)\n",
    "df_val, df_test = train_test_split(df_temp, test_size=0.5, random_state=9)\n"
   ]
  },
  {
   "cell_type": "markdown",
   "id": "e2a1b8f1-4fd6-470f-a4f3-0d134430f63b",
   "metadata": {},
   "source": [
    "Step 2: Combine train + validation"
   ]
  },
  {
   "cell_type": "code",
   "execution_count": 33,
   "id": "b85c1aa4-c935-4e2f-b515-9412ce9aeafe",
   "metadata": {},
   "outputs": [],
   "source": [
    "df_full_train = pd.concat([df_train, df_val])"
   ]
  },
  {
   "cell_type": "markdown",
   "id": "5f746bfd-8aab-458f-998b-1527572a9fff",
   "metadata": {},
   "source": [
    "Step 3: Fill missing values with 0"
   ]
  },
  {
   "cell_type": "code",
   "execution_count": 35,
   "id": "6ef88679-8045-4546-b643-6cfa940a0510",
   "metadata": {},
   "outputs": [],
   "source": [
    "df_full_train['horsepower'] = df_full_train['horsepower'].fillna(0)\n",
    "df_test['horsepower'] = df_test['horsepower'].fillna(0)\n"
   ]
  },
  {
   "cell_type": "markdown",
   "id": "d8f6d848-f161-4253-ab47-8f46f04da064",
   "metadata": {},
   "source": [
    "Step 4: Prepare and train model"
   ]
  },
  {
   "cell_type": "code",
   "execution_count": 37,
   "id": "5f11d088-d30c-420f-994e-d6c02723dae1",
   "metadata": {},
   "outputs": [
    {
     "name": "stdout",
     "output_type": "stream",
     "text": [
      "RMSE on test: 0.532\n"
     ]
    },
    {
     "name": "stderr",
     "output_type": "stream",
     "text": [
      "C:\\Users\\Tooter\\anaconda3\\Lib\\site-packages\\sklearn\\metrics\\_regression.py:483: FutureWarning: 'squared' is deprecated in version 1.4 and will be removed in 1.6. To calculate the root mean squared error, use the function'root_mean_squared_error'.\n",
      "  warnings.warn(\n"
     ]
    }
   ],
   "source": [
    "features = ['engine_displacement', 'horsepower', 'vehicle_weight', 'model_year']\n",
    "target = 'fuel_efficiency_mpg'\n",
    "\n",
    "X_full_train = df_full_train[features]\n",
    "y_full_train = df_full_train[target].values\n",
    "X_test = df_test[features]\n",
    "y_test = df_test[target].values\n",
    "\n",
    "model = Ridge(alpha=0.001)\n",
    "model.fit(X_full_train, y_full_train)\n",
    "\n",
    "y_pred = model.predict(X_test)\n",
    "rmse_test = mean_squared_error(y_test, y_pred, squared=False)\n",
    "print(\"RMSE on test:\", round(rmse_test, 3))\n"
   ]
  },
  {
   "cell_type": "markdown",
   "id": "c4feb749-5744-41f0-832a-a401f8562cc7",
   "metadata": {},
   "source": [
    "**Closest Answer: 0.515**"
   ]
  },
  {
   "cell_type": "code",
   "execution_count": null,
   "id": "1151bfbe-ccbe-4feb-91fd-2ba1ece8d402",
   "metadata": {},
   "outputs": [],
   "source": []
  }
 ],
 "metadata": {
  "kernelspec": {
   "display_name": "Python 3 (ipykernel)",
   "language": "python",
   "name": "python3"
  },
  "language_info": {
   "codemirror_mode": {
    "name": "ipython",
    "version": 3
   },
   "file_extension": ".py",
   "mimetype": "text/x-python",
   "name": "python",
   "nbconvert_exporter": "python",
   "pygments_lexer": "ipython3",
   "version": "3.12.3"
  }
 },
 "nbformat": 4,
 "nbformat_minor": 5
}
