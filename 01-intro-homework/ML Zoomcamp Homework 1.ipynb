{
 "cells": [
  {
   "cell_type": "code",
   "execution_count": 5,
   "id": "71645534-d040-4c95-a3b2-867b0470492e",
   "metadata": {},
   "outputs": [],
   "source": [
    "import numpy as np\n",
    "import pandas as pd\n",
    "import matplotlib.pyplot as plt\n",
    "import seaborn as sns"
   ]
  },
  {
   "cell_type": "markdown",
   "id": "9f15ed36-e41d-4726-9eba-86c729e9e5ee",
   "metadata": {},
   "source": [
    "### Q1. Pandas version\n",
    "**What's the version of Pandas that you installed?**"
   ]
  },
  {
   "cell_type": "code",
   "execution_count": 7,
   "id": "8734b256-e574-4f33-93af-e258b75ee2e5",
   "metadata": {},
   "outputs": [
    {
     "data": {
      "text/plain": [
       "'2.2.2'"
      ]
     },
     "execution_count": 7,
     "metadata": {},
     "output_type": "execute_result"
    }
   ],
   "source": [
    "pd.__version__"
   ]
  },
  {
   "cell_type": "code",
   "execution_count": 13,
   "id": "bbf77d39-0ed2-48f5-bf55-727b67c0baa6",
   "metadata": {},
   "outputs": [],
   "source": [
    "# url = \"https://raw.githubusercontent.com/alexeygrigorev/datasets/master/car_fuel_efficiency.csv\"\n",
    "# df = pd.read_csv(url)\n",
    "\n",
    "df = pd.read_csv('car_fuel_efficiency.csv')"
   ]
  },
  {
   "cell_type": "code",
   "execution_count": 15,
   "id": "74f3b8fc-c201-41a4-a34f-ce6291e51b93",
   "metadata": {},
   "outputs": [
    {
     "name": "stdout",
     "output_type": "stream",
     "text": [
      "<class 'pandas.core.frame.DataFrame'>\n",
      "RangeIndex: 9704 entries, 0 to 9703\n",
      "Data columns (total 11 columns):\n",
      " #   Column               Non-Null Count  Dtype  \n",
      "---  ------               --------------  -----  \n",
      " 0   engine_displacement  9704 non-null   int64  \n",
      " 1   num_cylinders        9222 non-null   float64\n",
      " 2   horsepower           8996 non-null   float64\n",
      " 3   vehicle_weight       9704 non-null   float64\n",
      " 4   acceleration         8774 non-null   float64\n",
      " 5   model_year           9704 non-null   int64  \n",
      " 6   origin               9704 non-null   object \n",
      " 7   fuel_type            9704 non-null   object \n",
      " 8   drivetrain           9704 non-null   object \n",
      " 9   num_doors            9202 non-null   float64\n",
      " 10  fuel_efficiency_mpg  9704 non-null   float64\n",
      "dtypes: float64(6), int64(2), object(3)\n",
      "memory usage: 834.1+ KB\n"
     ]
    },
    {
     "data": {
      "text/html": [
       "<div>\n",
       "<style scoped>\n",
       "    .dataframe tbody tr th:only-of-type {\n",
       "        vertical-align: middle;\n",
       "    }\n",
       "\n",
       "    .dataframe tbody tr th {\n",
       "        vertical-align: top;\n",
       "    }\n",
       "\n",
       "    .dataframe thead th {\n",
       "        text-align: right;\n",
       "    }\n",
       "</style>\n",
       "<table border=\"1\" class=\"dataframe\">\n",
       "  <thead>\n",
       "    <tr style=\"text-align: right;\">\n",
       "      <th></th>\n",
       "      <th>engine_displacement</th>\n",
       "      <th>num_cylinders</th>\n",
       "      <th>horsepower</th>\n",
       "      <th>vehicle_weight</th>\n",
       "      <th>acceleration</th>\n",
       "      <th>model_year</th>\n",
       "      <th>num_doors</th>\n",
       "      <th>fuel_efficiency_mpg</th>\n",
       "    </tr>\n",
       "  </thead>\n",
       "  <tbody>\n",
       "    <tr>\n",
       "      <th>count</th>\n",
       "      <td>9704.000000</td>\n",
       "      <td>9222.000000</td>\n",
       "      <td>8996.000000</td>\n",
       "      <td>9704.000000</td>\n",
       "      <td>8774.000000</td>\n",
       "      <td>9704.000000</td>\n",
       "      <td>9202.000000</td>\n",
       "      <td>9704.000000</td>\n",
       "    </tr>\n",
       "    <tr>\n",
       "      <th>mean</th>\n",
       "      <td>199.708368</td>\n",
       "      <td>3.962481</td>\n",
       "      <td>149.657292</td>\n",
       "      <td>3001.280993</td>\n",
       "      <td>15.021928</td>\n",
       "      <td>2011.484027</td>\n",
       "      <td>-0.006412</td>\n",
       "      <td>14.985243</td>\n",
       "    </tr>\n",
       "    <tr>\n",
       "      <th>std</th>\n",
       "      <td>49.455319</td>\n",
       "      <td>1.999323</td>\n",
       "      <td>29.879555</td>\n",
       "      <td>497.894860</td>\n",
       "      <td>2.510339</td>\n",
       "      <td>6.659808</td>\n",
       "      <td>1.048162</td>\n",
       "      <td>2.556468</td>\n",
       "    </tr>\n",
       "    <tr>\n",
       "      <th>min</th>\n",
       "      <td>10.000000</td>\n",
       "      <td>0.000000</td>\n",
       "      <td>37.000000</td>\n",
       "      <td>952.681761</td>\n",
       "      <td>6.000000</td>\n",
       "      <td>2000.000000</td>\n",
       "      <td>-4.000000</td>\n",
       "      <td>6.200971</td>\n",
       "    </tr>\n",
       "    <tr>\n",
       "      <th>25%</th>\n",
       "      <td>170.000000</td>\n",
       "      <td>3.000000</td>\n",
       "      <td>130.000000</td>\n",
       "      <td>2666.248985</td>\n",
       "      <td>13.300000</td>\n",
       "      <td>2006.000000</td>\n",
       "      <td>-1.000000</td>\n",
       "      <td>13.267459</td>\n",
       "    </tr>\n",
       "    <tr>\n",
       "      <th>50%</th>\n",
       "      <td>200.000000</td>\n",
       "      <td>4.000000</td>\n",
       "      <td>149.000000</td>\n",
       "      <td>2993.226296</td>\n",
       "      <td>15.000000</td>\n",
       "      <td>2012.000000</td>\n",
       "      <td>0.000000</td>\n",
       "      <td>15.006037</td>\n",
       "    </tr>\n",
       "    <tr>\n",
       "      <th>75%</th>\n",
       "      <td>230.000000</td>\n",
       "      <td>5.000000</td>\n",
       "      <td>170.000000</td>\n",
       "      <td>3334.957039</td>\n",
       "      <td>16.700000</td>\n",
       "      <td>2017.000000</td>\n",
       "      <td>1.000000</td>\n",
       "      <td>16.707965</td>\n",
       "    </tr>\n",
       "    <tr>\n",
       "      <th>max</th>\n",
       "      <td>380.000000</td>\n",
       "      <td>13.000000</td>\n",
       "      <td>271.000000</td>\n",
       "      <td>4739.077089</td>\n",
       "      <td>24.300000</td>\n",
       "      <td>2023.000000</td>\n",
       "      <td>4.000000</td>\n",
       "      <td>25.967222</td>\n",
       "    </tr>\n",
       "  </tbody>\n",
       "</table>\n",
       "</div>"
      ],
      "text/plain": [
       "       engine_displacement  num_cylinders   horsepower  vehicle_weight  \\\n",
       "count          9704.000000    9222.000000  8996.000000     9704.000000   \n",
       "mean            199.708368       3.962481   149.657292     3001.280993   \n",
       "std              49.455319       1.999323    29.879555      497.894860   \n",
       "min              10.000000       0.000000    37.000000      952.681761   \n",
       "25%             170.000000       3.000000   130.000000     2666.248985   \n",
       "50%             200.000000       4.000000   149.000000     2993.226296   \n",
       "75%             230.000000       5.000000   170.000000     3334.957039   \n",
       "max             380.000000      13.000000   271.000000     4739.077089   \n",
       "\n",
       "       acceleration   model_year    num_doors  fuel_efficiency_mpg  \n",
       "count   8774.000000  9704.000000  9202.000000          9704.000000  \n",
       "mean      15.021928  2011.484027    -0.006412            14.985243  \n",
       "std        2.510339     6.659808     1.048162             2.556468  \n",
       "min        6.000000  2000.000000    -4.000000             6.200971  \n",
       "25%       13.300000  2006.000000    -1.000000            13.267459  \n",
       "50%       15.000000  2012.000000     0.000000            15.006037  \n",
       "75%       16.700000  2017.000000     1.000000            16.707965  \n",
       "max       24.300000  2023.000000     4.000000            25.967222  "
      ]
     },
     "execution_count": 15,
     "metadata": {},
     "output_type": "execute_result"
    }
   ],
   "source": [
    "df.head()       \n",
    "df.info()        \n",
    "df.describe()    "
   ]
  },
  {
   "cell_type": "markdown",
   "id": "e8c7c70d-4714-43c2-b7a9-d3bf4b28c906",
   "metadata": {},
   "source": [
    "### Q2. Records count\n",
    "**How many records are in the dataset?**"
   ]
  },
  {
   "cell_type": "code",
   "execution_count": 22,
   "id": "f35852bc-503e-4027-8e53-a07be3fffa6d",
   "metadata": {},
   "outputs": [
    {
     "name": "stdout",
     "output_type": "stream",
     "text": [
      "Number of records: 9704\n"
     ]
    }
   ],
   "source": [
    "# To get number of records (rows)\n",
    "num_records = len(df)\n",
    "print(\"Number of records:\", num_records)"
   ]
  },
  {
   "cell_type": "markdown",
   "id": "e349fda0-b025-4e43-948f-7d985358c04f",
   "metadata": {},
   "source": [
    "### Q3. Fuel types\n",
    "**How many fuel types are presented in the dataset?**"
   ]
  },
  {
   "cell_type": "code",
   "execution_count": 30,
   "id": "b195a8f8-cac8-47af-b6a7-e4ea747fab75",
   "metadata": {},
   "outputs": [
    {
     "name": "stdout",
     "output_type": "stream",
     "text": [
      "Number of fuel types: 2\n"
     ]
    }
   ],
   "source": [
    "# To get the number of fuel types in the dataset\n",
    "num_fuel_types = df['fuel_type'].nunique()\n",
    "print(\"Number of fuel types:\", num_fuel_types)"
   ]
  },
  {
   "cell_type": "markdown",
   "id": "c7a3d98b-e997-498f-ad73-8812a7e48501",
   "metadata": {},
   "source": [
    "### Q4. Missing values\n",
    "**How many columns in the dataset have missing values?**"
   ]
  },
  {
   "cell_type": "code",
   "execution_count": 35,
   "id": "6803a634-f9c1-4f99-8728-83054f580197",
   "metadata": {},
   "outputs": [
    {
     "name": "stdout",
     "output_type": "stream",
     "text": [
      "\n",
      "Number of columns with missing values: 4\n"
     ]
    }
   ],
   "source": [
    "# Check how many columns have missing values\n",
    "missing_values_per_column = df.isnull().sum()\n",
    "columns_with_missing = missing_values_per_column[missing_values_per_column > 0]\n",
    "\n",
    "print(\"\\nNumber of columns with missing values:\", len(columns_with_missing))"
   ]
  },
  {
   "cell_type": "markdown",
   "id": "5f41d0ba-19b7-4aee-92c0-56169c43be8f",
   "metadata": {},
   "source": [
    "### Q5. Max fuel efficiency\n",
    "**What's the maximum fuel efficiency of cars from Asia?**"
   ]
  },
  {
   "cell_type": "code",
   "execution_count": 41,
   "id": "115a114d-2f90-46e0-9624-abcad99f74e7",
   "metadata": {},
   "outputs": [
    {
     "name": "stdout",
     "output_type": "stream",
     "text": [
      "Maximum fuel efficiency of cars from Asia: 23.759122836520497 mpg\n"
     ]
    }
   ],
   "source": [
    "# First, identify cars whose origin is Asia\n",
    "asia_cars = df[df['origin'] == 'Asia']\n",
    "\n",
    "# Get the max fuel efficiency in mpg and round it off to 2 dec \n",
    "max_fuel_efficiency = round(asia_cars['fuel_efficiency_mpg'].max(), 2)\n",
    "\n",
    "print(f\"Maximum fuel efficiency of cars from Asia: {max_fuel_efficiency} mpg\")\n"
   ]
  },
  {
   "cell_type": "markdown",
   "id": "40475294-d9e3-47fe-90b9-fca539e7f1e9",
   "metadata": {},
   "source": [
    "### Q6. Median value of horsepower\n",
    "**Find the median value of horsepower column in the dataset.\n",
    "Next, calculate the most frequent value of the same horsepower column.\n",
    "Use fillna method to fill the missing values in horsepower column with the most frequent value from the previous step.\n",
    "Now, calculate the median value of horsepower once again.\n",
    "Has it changed?**"
   ]
  },
  {
   "cell_type": "code",
   "execution_count": 45,
   "id": "54a36675-9178-44ef-ad5f-8c98d0081f65",
   "metadata": {},
   "outputs": [
    {
     "name": "stdout",
     "output_type": "stream",
     "text": [
      "Initial median horsepower: 149.0\n"
     ]
    }
   ],
   "source": [
    "# Step 1: Find the median value of the horsepower column\n",
    "initial_median = df['horsepower'].median()\n",
    "print(f\"Initial median horsepower: {initial_median}\")"
   ]
  },
  {
   "cell_type": "code",
   "execution_count": 47,
   "id": "d045daa1-b0ba-4a48-93b2-ac1ad5cd4121",
   "metadata": {},
   "outputs": [
    {
     "name": "stdout",
     "output_type": "stream",
     "text": [
      "Most frequent horsepower value: 152.0\n"
     ]
    }
   ],
   "source": [
    "# Step 2: Calculate the most frequent (mode) value of the horsepower column\n",
    "mode_hp = df['horsepower'].mode()[0]\n",
    "print(f\"Most frequent horsepower value: {mode_hp}\")"
   ]
  },
  {
   "cell_type": "code",
   "execution_count": 49,
   "id": "cc7a32af-9815-48bf-8651-1854edc2cbb3",
   "metadata": {},
   "outputs": [],
   "source": [
    "# Step 3: Fill missing values in horsepower with the mode value\n",
    "df['horsepower'] = df['horsepower'].fillna(mode_hp)"
   ]
  },
  {
   "cell_type": "code",
   "execution_count": 51,
   "id": "542cada2-5b15-4fce-ad3a-dd857df230f2",
   "metadata": {},
   "outputs": [
    {
     "name": "stdout",
     "output_type": "stream",
     "text": [
      "New median horsepower after filling missing values: 152.0\n"
     ]
    }
   ],
   "source": [
    "# Step 4: Calculate the median horsepower again\n",
    "new_median = df['horsepower'].median()\n",
    "print(f\"New median horsepower after filling missing values: {new_median}\")"
   ]
  },
  {
   "cell_type": "code",
   "execution_count": 55,
   "id": "a65da5d5-6b88-449b-bf63-bcb9f577c0bc",
   "metadata": {},
   "outputs": [
    {
     "name": "stdout",
     "output_type": "stream",
     "text": [
      "Has the median changed? Yes\n"
     ]
    }
   ],
   "source": [
    "# Step 5: Has the median changed?\n",
    "changed = initial_median != new_median\n",
    "print(f\"Has the median changed? {'Yes' if changed else 'No'}\")"
   ]
  },
  {
   "cell_type": "markdown",
   "id": "a8de6dba-0a60-44b0-8a6c-9aa49e74ad12",
   "metadata": {},
   "source": [
    "Yes, it increased"
   ]
  },
  {
   "cell_type": "markdown",
   "id": "9eb422d7-0817-48d4-8e23-d55bf3fb5092",
   "metadata": {},
   "source": [
    "### Q7. Sum of weights\n",
    "**Select all the cars from Asia\n",
    "Select only columns vehicle_weight and model_year\n",
    "Select the first 7 values\n",
    "Get the underlying NumPy array. Let's call it X.\n",
    "Compute matrix-matrix multiplication between the transpose of X and X. To get the transpose, use X.T. Let's call the result XTX.\n",
    "Invert XTX.\n",
    "Create an array y with values [1100, 1300, 800, 900, 1000, 1100, 1200].\n",
    "Multiply the inverse of XTX with the transpose of X, and then multiply the result by y. Call the result w.\n",
    "What's the sum of all the elements of the result**"
   ]
  },
  {
   "cell_type": "code",
   "execution_count": 62,
   "id": "4d61f84b-929a-49f1-895e-612ee2aaeaf9",
   "metadata": {},
   "outputs": [
    {
     "name": "stdout",
     "output_type": "stream",
     "text": [
      "Sum of elements in w: 0.5187709081074008\n"
     ]
    }
   ],
   "source": [
    "import pandas as pd\n",
    "import numpy as np\n",
    "\n",
    "# Load the dataset\n",
    "url = \"https://raw.githubusercontent.com/alexeygrigorev/datasets/master/car_fuel_efficiency.csv\"\n",
    "df = pd.read_csv(url)\n",
    "\n",
    "# Step 1: Select all cars from Asia\n",
    "df_asia = df[df['origin'] == 'Asia']\n",
    "\n",
    "# Step 2: Select only 'vehicle_weight' and 'model_year' columns\n",
    "df_selected = df_asia[['vehicle_weight', 'model_year']]\n",
    "\n",
    "# Step 3: Select the first 7 values\n",
    "df_7 = df_selected.head(7)\n",
    "\n",
    "# Step 4: Get the underlying NumPy array\n",
    "X = df_7.values\n",
    "\n",
    "# Step 5: Compute XTX = X.T @ X\n",
    "XTX = X.T.dot(X)\n",
    "\n",
    "# Step 6: Invert XTX\n",
    "XTX_inv = np.linalg.inv(XTX)\n",
    "\n",
    "# Step 7: Create y\n",
    "y = np.array([1100, 1300, 800, 900, 1000, 1100, 1200])\n",
    "\n",
    "# Step 8: Compute w = (XTX)^(-1) * X.T * y\n",
    "w = XTX_inv.dot(X.T).dot(y)\n",
    "\n",
    "# Step 9: Sum of all elements in w\n",
    "sum_w = w.sum()\n",
    "\n",
    "print(f\"Sum of elements in w: {sum_w}\")\n"
   ]
  },
  {
   "cell_type": "code",
   "execution_count": null,
   "id": "64911f21-ad66-4725-8dd6-87ec758947d7",
   "metadata": {},
   "outputs": [],
   "source": []
  }
 ],
 "metadata": {
  "kernelspec": {
   "display_name": "Python 3 (ipykernel)",
   "language": "python",
   "name": "python3"
  },
  "language_info": {
   "codemirror_mode": {
    "name": "ipython",
    "version": 3
   },
   "file_extension": ".py",
   "mimetype": "text/x-python",
   "name": "python",
   "nbconvert_exporter": "python",
   "pygments_lexer": "ipython3",
   "version": "3.12.3"
  }
 },
 "nbformat": 4,
 "nbformat_minor": 5
}
