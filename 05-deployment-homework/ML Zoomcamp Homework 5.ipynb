{
 "cells": [
  {
   "cell_type": "markdown",
   "id": "2b20bbdb-9eaf-41d4-8f5c-611c8caba424",
   "metadata": {},
   "source": [
    "**Question 1**"
   ]
  },
  {
   "cell_type": "markdown",
   "id": "9c75dc20-8814-40af-83e8-81f664e1112a",
   "metadata": {},
   "source": [
    "Install uv\n",
    "What's the version of uv you installed?\n",
    "Use --version to find out\n",
    "Initialize an empty uv project\n",
    "You should create an empty folder for homework and do it there."
   ]
  },
  {
   "cell_type": "code",
   "execution_count": 6,
   "id": "a6045346-67f2-46ad-9309-f54c45a3bad3",
   "metadata": {},
   "outputs": [
    {
     "name": "stdout",
     "output_type": "stream",
     "text": [
      "Requirement already satisfied: uv in c:\\users\\tooter\\anaconda3\\lib\\site-packages (0.9.6)\n"
     ]
    }
   ],
   "source": [
    "!pip install uv"
   ]
  },
  {
   "cell_type": "code",
   "execution_count": 10,
   "id": "846579f6-e8c5-476a-a8c4-14ba3eeb08d1",
   "metadata": {},
   "outputs": [
    {
     "name": "stdout",
     "output_type": "stream",
     "text": [
      "uv 0.9.6 (265224465 2025-10-29)\n"
     ]
    }
   ],
   "source": [
    "!uv --version"
   ]
  },
  {
   "cell_type": "code",
   "execution_count": 16,
   "id": "c3177c1a-5462-4acb-9495-512e5942f34d",
   "metadata": {},
   "outputs": [
    {
     "name": "stdout",
     "output_type": "stream",
     "text": [
      "C:\\Users\\Tooter\\6. ML Zoomcamp\\Homework\\uv_homework\n"
     ]
    }
   ],
   "source": [
    "\n",
    "!mkdir uv_homework\n",
    "\n",
    "%cd uv_homework\n"
   ]
  },
  {
   "cell_type": "code",
   "execution_count": 20,
   "id": "4c1ae57c-4da9-495b-9bac-58adb8137c6e",
   "metadata": {},
   "outputs": [
    {
     "name": "stderr",
     "output_type": "stream",
     "text": [
      "Adding `\u001b[36muv-homework\u001b[39m` as member of workspace `\u001b[36mC:\\Users\\Tooter\\6. ML Zoomcamp\\Homework\u001b[39m`\n",
      "Initialized project `\u001b[36muv-homework\u001b[39m`\n"
     ]
    }
   ],
   "source": [
    "!uv init"
   ]
  },
  {
   "cell_type": "markdown",
   "id": "f8abb182-4f05-40c1-8c0f-3661415265ac",
   "metadata": {},
   "source": [
    "**Question 2**"
   ]
  },
  {
   "cell_type": "markdown",
   "id": "39a758f4-9f76-432d-b0f2-3374507fe6bf",
   "metadata": {},
   "source": [
    "Use uv to install Scikit-Learn version 1.6.1\n",
    "What's the first hash for Scikit-Learn you get in the lock file?\n",
    "Include the entire string starting with sha256:, don't include quotes"
   ]
  },
  {
   "cell_type": "code",
   "execution_count": 26,
   "id": "95c58bf0-9f6d-4fdd-bd4d-7090573b11e3",
   "metadata": {},
   "outputs": [
    {
     "name": "stdout",
     "output_type": "stream",
     "text": [
      "[WinError 2] The system cannot find the file specified: 'uv_homework'\n",
      "C:\\Users\\Tooter\\6. ML Zoomcamp\\Homework\\uv_homework\n"
     ]
    }
   ],
   "source": [
    "cd uv_homework"
   ]
  },
  {
   "cell_type": "code",
   "execution_count": 28,
   "id": "7a6cfe9f-0fb4-43db-8866-91bc42ea638e",
   "metadata": {},
   "outputs": [
    {
     "name": "stdout",
     "output_type": "stream",
     "text": [
      "uv 0.9.6 (265224465 2025-10-29)\n"
     ]
    }
   ],
   "source": [
    "!uv --version"
   ]
  },
  {
   "cell_type": "code",
   "execution_count": null,
   "id": "d3761b49-9d2c-41a4-b9fa-c826028c31e4",
   "metadata": {},
   "outputs": [],
   "source": [
    "!uv add scikit-learn==1.6.1"
   ]
  },
  {
   "cell_type": "code",
   "execution_count": null,
   "id": "1177346c-b99e-47b1-9fad-6283e4d8ea35",
   "metadata": {},
   "outputs": [],
   "source": []
  }
 ],
 "metadata": {
  "kernelspec": {
   "display_name": "Python 3 (ipykernel)",
   "language": "python",
   "name": "python3"
  },
  "language_info": {
   "codemirror_mode": {
    "name": "ipython",
    "version": 3
   },
   "file_extension": ".py",
   "mimetype": "text/x-python",
   "name": "python",
   "nbconvert_exporter": "python",
   "pygments_lexer": "ipython3",
   "version": "3.12.3"
  }
 },
 "nbformat": 4,
 "nbformat_minor": 5
}
